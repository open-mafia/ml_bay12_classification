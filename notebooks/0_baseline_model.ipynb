{
 "cells": [
  {
   "cell_type": "markdown",
   "metadata": {},
   "source": [
    "# Baseline Modeling notebook"
   ]
  },
  {
   "cell_type": "code",
   "execution_count": 1,
   "metadata": {},
   "outputs": [],
   "source": [
    "import logging\n",
    "import os\n",
    "import gcsfs\n",
    "\n",
    "from sklearn.decomposition import PCA\n",
    "\n",
    "from ml_bay12.GCS import GCSLoader\n",
    "from ml_bay12 import data_prepare\n",
    "\n",
    "import numpy as np\n",
    "import pandas as pd\n",
    "\n",
    "from matplotlib import pyplot as plt\n",
    "\n",
    "import re\n",
    "from sklearn.linear_model import LogisticRegression\n",
    "\n",
    "import warnings\n",
    "\n",
    "from sklearn.feature_extraction.text import CountVectorizer, TfidfVectorizer\n",
    "from sklearn.model_selection import GridSearchCV, cross_val_score\n",
    "from sklearn.metrics import roc_auc_score\n",
    "from sklearn.metrics import accuracy_score\n",
    "\n",
    "warnings.filterwarnings('ignore')"
   ]
  },
  {
   "cell_type": "markdown",
   "metadata": {},
   "source": [
    "### Load data, concatenate text of each user in each thread and get rid of users not taking part in the game"
   ]
  },
  {
   "cell_type": "code",
   "execution_count": 2,
   "metadata": {},
   "outputs": [],
   "source": [
    "gcs=GCSLoader(project='open-mafia-ml-bay12',path='om-ml-bay12-storage/dataset/ds_mafia')\n",
    "post=gcs.get_post()\n",
    "role=gcs.get_role()\n",
    "post_test=gcs.get_post(which='test')\n",
    "role_test=gcs.get_role(which='test')"
   ]
  },
  {
   "cell_type": "code",
   "execution_count": 3,
   "metadata": {},
   "outputs": [],
   "source": [
    "post[\"text\"]=post[\"text\"].apply(data_prepare.clean)\n",
    "post_test[\"text\"]=post_test[\"text\"].apply(data_prepare.clean)"
   ]
  },
  {
   "cell_type": "code",
   "execution_count": 4,
   "metadata": {},
   "outputs": [],
   "source": [
    "users_df=data_prepare.concat_users_text(post)\n",
    "users_test_df=data_prepare.concat_users_text(post_test)"
   ]
  },
  {
   "cell_type": "code",
   "execution_count": 5,
   "metadata": {},
   "outputs": [],
   "source": [
    "main_df = data_prepare.get_users_in_game(role, users_df)\n",
    "main_test_df = data_prepare.get_users_in_game(role_test, users_test_df)"
   ]
  },
  {
   "cell_type": "code",
   "execution_count": 6,
   "metadata": {},
   "outputs": [],
   "source": [
    "train_data=main_df[\"text\"]\n",
    "y=main_df[\"role_id\"]\n",
    "y_test=gcs.get_role_answers()[\"role_id\"]\n",
    "test_data=main_test_df[\"text\"]"
   ]
  },
  {
   "cell_type": "code",
   "execution_count": 7,
   "metadata": {},
   "outputs": [
    {
     "data": {
      "text/html": [
       "<div>\n",
       "<style scoped>\n",
       "    .dataframe tbody tr th:only-of-type {\n",
       "        vertical-align: middle;\n",
       "    }\n",
       "\n",
       "    .dataframe tbody tr th {\n",
       "        vertical-align: top;\n",
       "    }\n",
       "\n",
       "    .dataframe thead th {\n",
       "        text-align: right;\n",
       "    }\n",
       "</style>\n",
       "<table border=\"1\" class=\"dataframe\">\n",
       "  <thead>\n",
       "    <tr style=\"text-align: right;\">\n",
       "      <th></th>\n",
       "      <th>thread_num</th>\n",
       "      <th>user</th>\n",
       "      <th>text</th>\n",
       "      <th>quotes</th>\n",
       "    </tr>\n",
       "  </thead>\n",
       "  <tbody>\n",
       "    <tr>\n",
       "      <th>0</th>\n",
       "      <td>39457</td>\n",
       "      <td>Mephansteras</td>\n",
       "      <td>there was some talk about a beginners mafia ga...</td>\n",
       "      <td>[]</td>\n",
       "    </tr>\n",
       "    <tr>\n",
       "      <th>1</th>\n",
       "      <td>39457</td>\n",
       "      <td>Pandarsenic</td>\n",
       "      <td>cough i d join</td>\n",
       "      <td>[]</td>\n",
       "    </tr>\n",
       "    <tr>\n",
       "      <th>2</th>\n",
       "      <td>39457</td>\n",
       "      <td>Org</td>\n",
       "      <td>im in</td>\n",
       "      <td>[]</td>\n",
       "    </tr>\n",
       "    <tr>\n",
       "      <th>3</th>\n",
       "      <td>39457</td>\n",
       "      <td>Mephansteras</td>\n",
       "      <td>sigh ok how about people who haven t been in a...</td>\n",
       "      <td>[]</td>\n",
       "    </tr>\n",
       "    <tr>\n",
       "      <th>4</th>\n",
       "      <td>39457</td>\n",
       "      <td>Jim Groovester</td>\n",
       "      <td>i may join just to see what the hell is so gre...</td>\n",
       "      <td>[]</td>\n",
       "    </tr>\n",
       "  </tbody>\n",
       "</table>\n",
       "</div>"
      ],
      "text/plain": [
       "   thread_num            user  \\\n",
       "0       39457    Mephansteras   \n",
       "1       39457     Pandarsenic   \n",
       "2       39457             Org   \n",
       "3       39457    Mephansteras   \n",
       "4       39457  Jim Groovester   \n",
       "\n",
       "                                                text quotes  \n",
       "0  there was some talk about a beginners mafia ga...     []  \n",
       "1                                     cough i d join     []  \n",
       "2                                              im in     []  \n",
       "3  sigh ok how about people who haven t been in a...     []  \n",
       "4  i may join just to see what the hell is so gre...     []  "
      ]
     },
     "execution_count": 7,
     "metadata": {},
     "output_type": "execute_result"
    }
   ],
   "source": [
    "post.head()"
   ]
  },
  {
   "cell_type": "code",
   "execution_count": 8,
   "metadata": {},
   "outputs": [
    {
     "data": {
      "text/html": [
       "<div>\n",
       "<style scoped>\n",
       "    .dataframe tbody tr th:only-of-type {\n",
       "        vertical-align: middle;\n",
       "    }\n",
       "\n",
       "    .dataframe tbody tr th {\n",
       "        vertical-align: top;\n",
       "    }\n",
       "\n",
       "    .dataframe thead th {\n",
       "        text-align: right;\n",
       "    }\n",
       "</style>\n",
       "<table border=\"1\" class=\"dataframe\">\n",
       "  <thead>\n",
       "    <tr style=\"text-align: right;\">\n",
       "      <th></th>\n",
       "      <th>thread_num</th>\n",
       "      <th>user</th>\n",
       "      <th>text</th>\n",
       "    </tr>\n",
       "  </thead>\n",
       "  <tbody>\n",
       "    <tr>\n",
       "      <th>0</th>\n",
       "      <td>39457</td>\n",
       "      <td>Mephansteras</td>\n",
       "      <td>there was some talk about a beginners mafia ga...</td>\n",
       "    </tr>\n",
       "    <tr>\n",
       "      <th>1</th>\n",
       "      <td>39457</td>\n",
       "      <td>Pandarsenic</td>\n",
       "      <td>cough i d joini think that an intro to how to ...</td>\n",
       "    </tr>\n",
       "    <tr>\n",
       "      <th>2</th>\n",
       "      <td>39457</td>\n",
       "      <td>Org</td>\n",
       "      <td>im inwait i am not in why i am not that experi...</td>\n",
       "    </tr>\n",
       "    <tr>\n",
       "      <th>3</th>\n",
       "      <td>39457</td>\n",
       "      <td>Jim Groovester</td>\n",
       "      <td>i may join just to see what the hell is so gre...</td>\n",
       "    </tr>\n",
       "    <tr>\n",
       "      <th>4</th>\n",
       "      <td>39457</td>\n",
       "      <td>Leafsnail</td>\n",
       "      <td>i ve been studying the rules of a few more pop...</td>\n",
       "    </tr>\n",
       "  </tbody>\n",
       "</table>\n",
       "</div>"
      ],
      "text/plain": [
       "   thread_num            user  \\\n",
       "0       39457    Mephansteras   \n",
       "1       39457     Pandarsenic   \n",
       "2       39457             Org   \n",
       "3       39457  Jim Groovester   \n",
       "4       39457       Leafsnail   \n",
       "\n",
       "                                                text  \n",
       "0  there was some talk about a beginners mafia ga...  \n",
       "1  cough i d joini think that an intro to how to ...  \n",
       "2  im inwait i am not in why i am not that experi...  \n",
       "3  i may join just to see what the hell is so gre...  \n",
       "4  i ve been studying the rules of a few more pop...  "
      ]
     },
     "execution_count": 8,
     "metadata": {},
     "output_type": "execute_result"
    }
   ],
   "source": [
    "users_df.head()"
   ]
  },
  {
   "cell_type": "code",
   "execution_count": 10,
   "metadata": {},
   "outputs": [
    {
     "data": {
      "text/html": [
       "<div>\n",
       "<style scoped>\n",
       "    .dataframe tbody tr th:only-of-type {\n",
       "        vertical-align: middle;\n",
       "    }\n",
       "\n",
       "    .dataframe tbody tr th {\n",
       "        vertical-align: top;\n",
       "    }\n",
       "\n",
       "    .dataframe thead th {\n",
       "        text-align: right;\n",
       "    }\n",
       "</style>\n",
       "<table border=\"1\" class=\"dataframe\">\n",
       "  <thead>\n",
       "    <tr style=\"text-align: right;\">\n",
       "      <th></th>\n",
       "      <th>thread_num</th>\n",
       "      <th>user</th>\n",
       "      <th>text</th>\n",
       "      <th>final_player</th>\n",
       "      <th>role</th>\n",
       "      <th>role_id</th>\n",
       "      <th>uid</th>\n",
       "    </tr>\n",
       "  </thead>\n",
       "  <tbody>\n",
       "    <tr>\n",
       "      <th>0</th>\n",
       "      <td>39457</td>\n",
       "      <td>Org</td>\n",
       "      <td>im inwait i am not in why i am not that experi...</td>\n",
       "      <td>Org</td>\n",
       "      <td>town</td>\n",
       "      <td>0.0</td>\n",
       "      <td>39457_Org</td>\n",
       "    </tr>\n",
       "    <tr>\n",
       "      <th>1</th>\n",
       "      <td>39457</td>\n",
       "      <td>Jim Groovester</td>\n",
       "      <td>i may join just to see what the hell is so gre...</td>\n",
       "      <td>Jim Groovester</td>\n",
       "      <td>town</td>\n",
       "      <td>0.0</td>\n",
       "      <td>39457_Jim_Groovester</td>\n",
       "    </tr>\n",
       "    <tr>\n",
       "      <th>2</th>\n",
       "      <td>39457</td>\n",
       "      <td>ToonyMan</td>\n",
       "      <td>arr i ll join if possiblequoted section agreey...</td>\n",
       "      <td>ToonyMan</td>\n",
       "      <td>town</td>\n",
       "      <td>0.0</td>\n",
       "      <td>39457_ToonyMan</td>\n",
       "    </tr>\n",
       "    <tr>\n",
       "      <th>3</th>\n",
       "      <td>39457</td>\n",
       "      <td>Eduren</td>\n",
       "      <td>ok im in ive played this game in rl but not on...</td>\n",
       "      <td>Eduren</td>\n",
       "      <td>town</td>\n",
       "      <td>0.0</td>\n",
       "      <td>39457_Eduren</td>\n",
       "    </tr>\n",
       "    <tr>\n",
       "      <th>4</th>\n",
       "      <td>39457</td>\n",
       "      <td>BloodBeard</td>\n",
       "      <td>bloodbeard is burdened with many df community ...</td>\n",
       "      <td>BloodBeard</td>\n",
       "      <td>town</td>\n",
       "      <td>0.0</td>\n",
       "      <td>39457_BloodBeard</td>\n",
       "    </tr>\n",
       "  </tbody>\n",
       "</table>\n",
       "</div>"
      ],
      "text/plain": [
       "   thread_num            user  \\\n",
       "0       39457             Org   \n",
       "1       39457  Jim Groovester   \n",
       "2       39457        ToonyMan   \n",
       "3       39457          Eduren   \n",
       "4       39457      BloodBeard   \n",
       "\n",
       "                                                text    final_player  role  \\\n",
       "0  im inwait i am not in why i am not that experi...             Org  town   \n",
       "1  i may join just to see what the hell is so gre...  Jim Groovester  town   \n",
       "2  arr i ll join if possiblequoted section agreey...        ToonyMan  town   \n",
       "3  ok im in ive played this game in rl but not on...          Eduren  town   \n",
       "4  bloodbeard is burdened with many df community ...      BloodBeard  town   \n",
       "\n",
       "   role_id                   uid  \n",
       "0      0.0             39457_Org  \n",
       "1      0.0  39457_Jim_Groovester  \n",
       "2      0.0        39457_ToonyMan  \n",
       "3      0.0          39457_Eduren  \n",
       "4      0.0      39457_BloodBeard  "
      ]
     },
     "execution_count": 10,
     "metadata": {},
     "output_type": "execute_result"
    }
   ],
   "source": [
    "main_df.head()"
   ]
  },
  {
   "cell_type": "markdown",
   "metadata": {},
   "source": [
    "### Vectorize text and scale features for PCA"
   ]
  },
  {
   "cell_type": "code",
   "execution_count": 79,
   "metadata": {},
   "outputs": [],
   "source": [
    "vectorizer = CountVectorizer(min_df=3, stop_words='english')\n",
    "X_train = vectorizer.fit_transform(train_data).toarray()\n",
    "X_test=vectorizer.transform(test_data).toarray()"
   ]
  },
  {
   "cell_type": "code",
   "execution_count": 80,
   "metadata": {},
   "outputs": [
    {
     "data": {
      "text/plain": [
       "(478, 7946)"
      ]
     },
     "execution_count": 80,
     "metadata": {},
     "output_type": "execute_result"
    }
   ],
   "source": [
    "X_train.shape"
   ]
  },
  {
   "cell_type": "code",
   "execution_count": 81,
   "metadata": {},
   "outputs": [],
   "source": [
    "from sklearn.preprocessing import StandardScaler\n",
    "sc=StandardScaler()\n",
    "X_train=sc.fit_transform(X_train)\n",
    "X_test=sc.transform(X_test)"
   ]
  },
  {
   "cell_type": "code",
   "execution_count": 83,
   "metadata": {},
   "outputs": [
    {
     "data": {
      "image/png": "[encoded data removed]",
      "text/plain": [
       "<Figure size 432x288 with 1 Axes>"
      ]
     },
     "metadata": {
      "needs_background": "light"
     },
     "output_type": "display_data"
    }
   ],
   "source": [
    "pca = PCA().fit(X_train)\n",
    "plt.figure()\n",
    "plt.plot(np.cumsum(pca.explained_variance_ratio_))\n",
    "plt.xlabel('PC number')\n",
    "plt.ylabel('Coverage of variance ')\n",
    "plt.show()"
   ]
  },
  {
   "cell_type": "code",
   "execution_count": 54,
   "metadata": {},
   "outputs": [],
   "source": [
    "pca = PCA(n_components=250)\n",
    "pC = pca.fit_transform(X_train)\n",
    "pCTest=pca.transform(X_test)"
   ]
  },
  {
   "cell_type": "markdown",
   "metadata": {},
   "source": [
    "*The ideal number of PCs might be more precise around 300, but as we've got few samples, let's not make too many components to encourage overfitting*"
   ]
  },
  {
   "cell_type": "markdown",
   "metadata": {},
   "source": [
    "### A little bit of hyperparameters adjustment"
   ]
  },
  {
   "cell_type": "code",
   "execution_count": 39,
   "metadata": {},
   "outputs": [
    {
     "name": "stdout",
     "output_type": "stream",
     "text": [
      "Fitting 4 folds for each of 75 candidates, totalling 300 fits\n"
     ]
    },
    {
     "name": "stderr",
     "output_type": "stream",
     "text": [
      "[Parallel(n_jobs=-1)]: Using backend LokyBackend with 4 concurrent workers.\n",
      "[Parallel(n_jobs=-1)]: Done  33 tasks      | elapsed:  2.4min\n",
      "[Parallel(n_jobs=-1)]: Done 154 tasks      | elapsed:  8.8min\n",
      "[Parallel(n_jobs=-1)]: Done 300 out of 300 | elapsed: 31.4min finished\n"
     ]
    },
    {
     "name": "stdout",
     "output_type": "stream",
     "text": [
      "0:\tlearn: 0.6504606\ttotal: 1.12s\tremaining: 32.5s\n",
      "1:\tlearn: 0.6201200\ttotal: 1.7s\tremaining: 23.8s\n",
      "2:\tlearn: 0.5926475\ttotal: 2.2s\tremaining: 19.8s\n",
      "3:\tlearn: 0.5684457\ttotal: 2.78s\tremaining: 18.1s\n",
      "4:\tlearn: 0.5456283\ttotal: 3.32s\tremaining: 16.6s\n",
      "5:\tlearn: 0.5307018\ttotal: 3.77s\tremaining: 15.1s\n",
      "6:\tlearn: 0.5200216\ttotal: 4.2s\tremaining: 13.8s\n",
      "7:\tlearn: 0.5067875\ttotal: 4.63s\tremaining: 12.7s\n",
      "8:\tlearn: 0.4971876\ttotal: 5.02s\tremaining: 11.7s\n",
      "9:\tlearn: 0.4874838\ttotal: 5.41s\tremaining: 10.8s\n",
      "10:\tlearn: 0.4787189\ttotal: 5.78s\tremaining: 9.97s\n",
      "11:\tlearn: 0.4711753\ttotal: 6.15s\tremaining: 9.22s\n",
      "12:\tlearn: 0.4646118\ttotal: 6.46s\tremaining: 8.45s\n",
      "13:\tlearn: 0.4527072\ttotal: 6.86s\tremaining: 7.83s\n",
      "14:\tlearn: 0.4460323\ttotal: 7.24s\tremaining: 7.24s\n",
      "15:\tlearn: 0.4403562\ttotal: 7.57s\tremaining: 6.62s\n",
      "16:\tlearn: 0.4328928\ttotal: 7.85s\tremaining: 6s\n",
      "17:\tlearn: 0.4284559\ttotal: 8.13s\tremaining: 5.42s\n",
      "18:\tlearn: 0.4204557\ttotal: 8.4s\tremaining: 4.86s\n",
      "19:\tlearn: 0.4156897\ttotal: 8.65s\tremaining: 4.32s\n",
      "20:\tlearn: 0.4110224\ttotal: 8.88s\tremaining: 3.81s\n",
      "21:\tlearn: 0.4071175\ttotal: 9.11s\tremaining: 3.31s\n",
      "22:\tlearn: 0.3998523\ttotal: 9.36s\tremaining: 2.85s\n",
      "23:\tlearn: 0.3939314\ttotal: 9.59s\tremaining: 2.4s\n",
      "24:\tlearn: 0.3894076\ttotal: 9.8s\tremaining: 1.96s\n",
      "25:\tlearn: 0.3836400\ttotal: 10s\tremaining: 1.54s\n",
      "26:\tlearn: 0.3804915\ttotal: 10.2s\tremaining: 1.14s\n",
      "27:\tlearn: 0.3742528\ttotal: 10.4s\tremaining: 745ms\n",
      "28:\tlearn: 0.3723315\ttotal: 10.6s\tremaining: 367ms\n",
      "29:\tlearn: 0.3666795\ttotal: 10.8s\tremaining: 0us\n"
     ]
    }
   ],
   "source": [
    "params = {'iterations':[30, 35, 40, 45, 50], 'depth':[2, 3, 4, 5, 6],\n",
    "              'loss_function': ['Logloss'],\n",
    "              'learning_rate':[.05, .1, .5]\n",
    "    }\n",
    "\n",
    "clf = CatBoostClassifier()\n",
    "grid=GridSearchCV(clf,param_grid = params , scoring = 'roc_auc', verbose = 5, n_jobs = -1, cv=4)\n",
    "best_model=grid.fit(pC,y)"
   ]
  },
  {
   "cell_type": "code",
   "execution_count": 40,
   "metadata": {},
   "outputs": [
    {
     "data": {
      "text/plain": [
       "{'depth': 5,\n",
       " 'iterations': 30,\n",
       " 'learning_rate': 0.1,\n",
       " 'loss_function': 'Logloss'}"
      ]
     },
     "execution_count": 40,
     "metadata": {},
     "output_type": "execute_result"
    }
   ],
   "source": [
    "param=best_model.best_params_\n",
    "param"
   ]
  },
  {
   "cell_type": "code",
   "execution_count": 74,
   "metadata": {},
   "outputs": [],
   "source": [
    "from sklearn.model_selection import train_test_split\n",
    "X_train, X_val, y_train, y_val = train_test_split(pC, y, test_size=0.2, random_state=24)"
   ]
  },
  {
   "cell_type": "code",
   "execution_count": 75,
   "metadata": {},
   "outputs": [],
   "source": [
    "from catboost import CatBoostClassifier, Pool\n",
    "eval_dataset = Pool(X_val, y_val)"
   ]
  },
  {
   "cell_type": "code",
   "execution_count": 76,
   "metadata": {},
   "outputs": [
    {
     "name": "stdout",
     "output_type": "stream",
     "text": [
      "0:\ttest: 0.4980263\tbest: 0.4980263 (0)\ttotal: 1.41s\tremaining: 40.9s\n",
      "1:\ttest: 0.5039474\tbest: 0.5039474 (1)\ttotal: 2.6s\tremaining: 36.4s\n",
      "2:\ttest: 0.4407895\tbest: 0.5039474 (1)\ttotal: 3.71s\tremaining: 33.4s\n",
      "3:\ttest: 0.4322368\tbest: 0.5039474 (1)\ttotal: 4.55s\tremaining: 29.6s\n",
      "4:\ttest: 0.4559211\tbest: 0.5039474 (1)\ttotal: 5.29s\tremaining: 26.4s\n",
      "5:\ttest: 0.4835526\tbest: 0.5039474 (1)\ttotal: 5.96s\tremaining: 23.8s\n",
      "6:\ttest: 0.4805921\tbest: 0.5039474 (1)\ttotal: 6.58s\tremaining: 21.6s\n",
      "7:\ttest: 0.4898026\tbest: 0.5039474 (1)\ttotal: 7.12s\tremaining: 19.6s\n",
      "8:\ttest: 0.4717105\tbest: 0.5039474 (1)\ttotal: 7.68s\tremaining: 17.9s\n",
      "9:\ttest: 0.4815789\tbest: 0.5039474 (1)\ttotal: 8.16s\tremaining: 16.3s\n",
      "10:\ttest: 0.4684211\tbest: 0.5039474 (1)\ttotal: 8.65s\tremaining: 14.9s\n",
      "11:\ttest: 0.5046053\tbest: 0.5046053 (11)\ttotal: 9.13s\tremaining: 13.7s\n",
      "12:\ttest: 0.5236842\tbest: 0.5236842 (12)\ttotal: 9.62s\tremaining: 12.6s\n",
      "13:\ttest: 0.5315789\tbest: 0.5315789 (13)\ttotal: 10.1s\tremaining: 11.6s\n",
      "14:\ttest: 0.5302632\tbest: 0.5315789 (13)\ttotal: 10.6s\tremaining: 10.6s\n",
      "15:\ttest: 0.5157895\tbest: 0.5315789 (13)\ttotal: 11.1s\tremaining: 9.71s\n",
      "16:\ttest: 0.5302632\tbest: 0.5315789 (13)\ttotal: 11.6s\tremaining: 8.85s\n",
      "17:\ttest: 0.5098684\tbest: 0.5315789 (13)\ttotal: 12s\tremaining: 8.03s\n",
      "18:\ttest: 0.5039474\tbest: 0.5315789 (13)\ttotal: 12.5s\tremaining: 7.26s\n",
      "19:\ttest: 0.5013158\tbest: 0.5315789 (13)\ttotal: 13s\tremaining: 6.52s\n",
      "20:\ttest: 0.5085526\tbest: 0.5315789 (13)\ttotal: 13.5s\tremaining: 5.8s\n",
      "21:\ttest: 0.4980263\tbest: 0.5315789 (13)\ttotal: 14s\tremaining: 5.09s\n",
      "22:\ttest: 0.4927632\tbest: 0.5315789 (13)\ttotal: 14.7s\tremaining: 4.48s\n",
      "23:\ttest: 0.4901316\tbest: 0.5315789 (13)\ttotal: 15.5s\tremaining: 3.87s\n",
      "24:\ttest: 0.5072368\tbest: 0.5315789 (13)\ttotal: 16.2s\tremaining: 3.23s\n",
      "25:\ttest: 0.5217105\tbest: 0.5315789 (13)\ttotal: 16.9s\tremaining: 2.6s\n",
      "26:\ttest: 0.5184211\tbest: 0.5315789 (13)\ttotal: 17.5s\tremaining: 1.95s\n",
      "27:\ttest: 0.5092105\tbest: 0.5315789 (13)\ttotal: 18.3s\tremaining: 1.31s\n",
      "28:\ttest: 0.4993421\tbest: 0.5315789 (13)\ttotal: 19s\tremaining: 656ms\n",
      "29:\ttest: 0.5026316\tbest: 0.5315789 (13)\ttotal: 19.7s\tremaining: 0us\n",
      "\n",
      "bestTest = 0.5315789474\n",
      "bestIteration = 13\n",
      "\n",
      "Shrink model to first 14 iterations.\n"
     ]
    }
   ],
   "source": [
    "model = CatBoostClassifier(iterations=30,\n",
    "                           learning_rate=.1,\n",
    "                           loss_function='Logloss',\n",
    "                           verbose=True,\n",
    "                          use_best_model=True,\n",
    "                           depth=5,\n",
    "                          eval_metric='AUC')\n",
    "model.fit(X_train, y_train, eval_set=eval_dataset)\n",
    "preds_class = model.predict(pCTest)\n",
    "preds_proba = model.predict_proba(pCTest)"
   ]
  },
  {
   "cell_type": "code",
   "execution_count": 77,
   "metadata": {},
   "outputs": [
    {
     "data": {
      "text/plain": [
       "0.583981841763943"
      ]
     },
     "execution_count": 77,
     "metadata": {},
     "output_type": "execute_result"
    }
   ],
   "source": [
    "roc_auc_score(y_test, preds_proba[:,1])"
   ]
  },
  {
   "cell_type": "code",
   "execution_count": 78,
   "metadata": {},
   "outputs": [
    {
     "data": {
      "text/plain": [
       "0.764179104477612"
      ]
     },
     "execution_count": 78,
     "metadata": {},
     "output_type": "execute_result"
    }
   ],
   "source": [
    "accuracy_score(y_test, preds_class)"
   ]
  },
  {
   "cell_type": "code",
   "execution_count": 84,
   "metadata": {},
   "outputs": [
    {
     "data": {
      "text/plain": [
       "256"
      ]
     },
     "execution_count": 84,
     "metadata": {},
     "output_type": "execute_result"
    }
   ],
   "source": [
    "accuracy_score(y_test, preds_class, normalize=False)"
   ]
  }
 ],
 "metadata": {
  "kernelspec": {
   "display_name": "Python 3",
   "language": "python",
   "name": "python3"
  },
  "language_info": {
   "codemirror_mode": {
    "name": "ipython",
    "version": 3
   },
   "file_extension": ".py",
   "mimetype": "text/x-python",
   "name": "python",
   "nbconvert_exporter": "python",
   "pygments_lexer": "ipython3",
   "version": "3.7.1"
  }
 },
 "nbformat": 4,
 "nbformat_minor": 2
}
