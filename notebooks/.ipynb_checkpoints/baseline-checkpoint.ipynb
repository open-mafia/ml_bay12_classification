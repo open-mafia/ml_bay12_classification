{
 "cells": [
  {
   "cell_type": "code",
   "execution_count": 1,
   "metadata": {},
   "outputs": [],
   "source": [
    "import logging\n",
    "import os\n",
    "import gcsfs\n",
    "\n",
    "from sklearn.decomposition import PCA\n",
    "\n",
    "from ml_bay12.GCS import GCSLoader\n",
    "from ml_bay12 import data_prepare\n",
    "\n",
    "import numpy as np\n",
    "import pandas as pd"
   ]
  },
  {
   "cell_type": "code",
   "execution_count": 2,
   "metadata": {},
   "outputs": [
    {
     "name": "stderr",
     "output_type": "stream",
     "text": [
      "C:\\Users\\Polina\\Miniconda3\\lib\\site-packages\\google\\auth\\_default.py:66: UserWarning: Your application has authenticated using end user credentials from Google Cloud SDK. We recommend that most server applications use service accounts instead. If your application continues to use end user credentials from Cloud SDK, you might receive a \"quota exceeded\" or \"API not enabled\" error. For more information about service accounts, see https://cloud.google.com/docs/authentication/\n",
      "  warnings.warn(_CLOUD_SDK_CREDENTIALS_WARNING)\n"
     ]
    }
   ],
   "source": [
    "gcs=GCSLoader(project='open-mafia-ml-bay12',path='om-ml-bay12-storage/dataset/ds_mafia')\n",
    "post=gcs.get_post()\n",
    "role=gcs.get_role()"
   ]
  },
  {
   "cell_type": "code",
   "execution_count": 3,
   "metadata": {},
   "outputs": [
    {
     "data": {
      "text/html": [
       "<div>\n",
       "<style scoped>\n",
       "    .dataframe tbody tr th:only-of-type {\n",
       "        vertical-align: middle;\n",
       "    }\n",
       "\n",
       "    .dataframe tbody tr th {\n",
       "        vertical-align: top;\n",
       "    }\n",
       "\n",
       "    .dataframe thead th {\n",
       "        text-align: right;\n",
       "    }\n",
       "</style>\n",
       "<table border=\"1\" class=\"dataframe\">\n",
       "  <thead>\n",
       "    <tr style=\"text-align: right;\">\n",
       "      <th></th>\n",
       "      <th>thread_num</th>\n",
       "      <th>user</th>\n",
       "      <th>text</th>\n",
       "      <th>quotes</th>\n",
       "    </tr>\n",
       "  </thead>\n",
       "  <tbody>\n",
       "    <tr>\n",
       "      <th>0</th>\n",
       "      <td>39457</td>\n",
       "      <td>Mephansteras</td>\n",
       "      <td>There was some talk about a beginners mafia ga...</td>\n",
       "      <td>[]</td>\n",
       "    </tr>\n",
       "    <tr>\n",
       "      <th>1</th>\n",
       "      <td>39457</td>\n",
       "      <td>Pandarsenic</td>\n",
       "      <td>*Cough*\\r\\r\\r\\r\\nI'd join.</td>\n",
       "      <td>[]</td>\n",
       "    </tr>\n",
       "    <tr>\n",
       "      <th>2</th>\n",
       "      <td>39457</td>\n",
       "      <td>Org</td>\n",
       "      <td>Im in.</td>\n",
       "      <td>[]</td>\n",
       "    </tr>\n",
       "    <tr>\n",
       "      <th>3</th>\n",
       "      <td>39457</td>\n",
       "      <td>Mephansteras</td>\n",
       "      <td>*sigh*\\r\\r\\r\\r\\n\\r\\r\\r\\r\\nOk, how about people...</td>\n",
       "      <td>[]</td>\n",
       "    </tr>\n",
       "    <tr>\n",
       "      <th>4</th>\n",
       "      <td>39457</td>\n",
       "      <td>Jim Groovester</td>\n",
       "      <td>I... may join. Just to see what the hell is so...</td>\n",
       "      <td>[]</td>\n",
       "    </tr>\n",
       "  </tbody>\n",
       "</table>\n",
       "</div>"
      ],
      "text/plain": [
       "   thread_num            user  \\\n",
       "0       39457    Mephansteras   \n",
       "1       39457     Pandarsenic   \n",
       "2       39457             Org   \n",
       "3       39457    Mephansteras   \n",
       "4       39457  Jim Groovester   \n",
       "\n",
       "                                                text quotes  \n",
       "0  There was some talk about a beginners mafia ga...     []  \n",
       "1                        *Cough*\\r\\r\\r\\r\\nI'd join.      []  \n",
       "2                                             Im in.     []  \n",
       "3  *sigh*\\r\\r\\r\\r\\n\\r\\r\\r\\r\\nOk, how about people...     []  \n",
       "4  I... may join. Just to see what the hell is so...     []  "
      ]
     },
     "execution_count": 3,
     "metadata": {},
     "output_type": "execute_result"
    }
   ],
   "source": [
    "post.head()"
   ]
  },
  {
   "cell_type": "code",
   "execution_count": 5,
   "metadata": {},
   "outputs": [
    {
     "name": "stderr",
     "output_type": "stream",
     "text": [
      "C:\\Users\\Polina\\Miniconda3\\lib\\site-packages\\bs4\\__init__.py:335: UserWarning: \"http://www.bay12forums.com/smf/index.php?topic=133901.msg4819293#msg4819293\" looks like a URL. Beautiful Soup is not an HTTP client. You should probably use an HTTP client like requests to get the document behind the URL, and feed that document to Beautiful Soup.\n",
      "  ' that document to Beautiful Soup.' % decoded_markup\n",
      "C:\\Users\\Polina\\Miniconda3\\lib\\site-packages\\bs4\\__init__.py:335: UserWarning: \"http://tvtropes.org/pmwiki/pmwiki.php/Main/SarcasticConfession\" looks like a URL. Beautiful Soup is not an HTTP client. You should probably use an HTTP client like requests to get the document behind the URL, and feed that document to Beautiful Soup.\n",
      "  ' that document to Beautiful Soup.' % decoded_markup\n",
      "C:\\Users\\Polina\\Miniconda3\\lib\\site-packages\\bs4\\__init__.py:272: UserWarning: \"b'....'\" looks like a filename, not markup. You should probably open this file and pass the filehandle into Beautiful Soup.\n",
      "  ' Beautiful Soup.' % markup)\n"
     ]
    }
   ],
   "source": [
    "post_test=gcs.get_post(which='test')\n",
    "role_test=gcs.get_role(which='test')\n",
    "post[\"text\"]=post[\"text\"].apply(data_prepare.clean)\n",
    "post_test[\"text\"]=post_test[\"text\"].apply(data_prepare.clean)"
   ]
  },
  {
   "cell_type": "code",
   "execution_count": 6,
   "metadata": {},
   "outputs": [],
   "source": [
    "users_df=data_prepare.concat_users_text(post)\n",
    "users_test_df=data_prepare.concat_users_text(post_test)"
   ]
  },
  {
   "cell_type": "code",
   "execution_count": 7,
   "metadata": {},
   "outputs": [],
   "source": [
    "main_df = data_prepare.get_users_in_game(role, users_df)\n",
    "main_test_df = data_prepare.get_users_in_game(role_test, users_test_df)"
   ]
  },
  {
   "cell_type": "code",
   "execution_count": null,
   "metadata": {},
   "outputs": [],
   "source": []
  }
 ],
 "metadata": {
  "kernelspec": {
   "display_name": "Python 3",
   "language": "python",
   "name": "python3"
  },
  "language_info": {
   "codemirror_mode": {
    "name": "ipython",
    "version": 3
   },
   "file_extension": ".py",
   "mimetype": "text/x-python",
   "name": "python",
   "nbconvert_exporter": "python",
   "pygments_lexer": "ipython3",
   "version": "3.7.0"
  }
 },
 "nbformat": 4,
 "nbformat_minor": 2
}
