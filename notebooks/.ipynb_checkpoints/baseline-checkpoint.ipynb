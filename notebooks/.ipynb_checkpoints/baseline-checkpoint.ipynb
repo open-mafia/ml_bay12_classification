{
 "cells": [
  {
   "cell_type": "code",
   "execution_count": 58,
   "metadata": {},
   "outputs": [],
   "source": [
    "import logging\n",
    "import os\n",
    "import gcsfs\n",
    "\n",
    "from sklearn.decomposition import PCA\n",
    "\n",
    "from ml_bay12.GCS import GCSLoader\n",
    "from ml_bay12 import data_prepare\n",
    "\n",
    "import numpy as np\n",
    "import pandas as pd\n",
    "\n",
    "from matplotlib import pyplot as plt\n",
    "\n",
    "import re\n",
    "from sklearn.linear_model import LogisticRegression\n",
    "\n",
    "import warnings\n",
    "\n",
    "from sklearn.feature_extraction.text import CountVectorizer, TfidfVectorizer\n",
    "from sklearn.model_selection import GridSearchCV, cross_val_score\n",
    "from sklearn.metrics import roc_curve, auc, confusion_matrix, accuracy_score, classification_report\n",
    "from sklearn.ensemble import RandomForestClassifier\n",
    "warnings.filterwarnings('ignore')"
   ]
  },
  {
   "cell_type": "code",
   "execution_count": 21,
   "metadata": {},
   "outputs": [],
   "source": [
    "gcs=GCSLoader(project='open-mafia-ml-bay12',path='om-ml-bay12-storage/dataset/ds_mafia')\n",
    "post=gcs.get_post()\n",
    "role=gcs.get_role()"
   ]
  },
  {
   "cell_type": "code",
   "execution_count": 22,
   "metadata": {},
   "outputs": [
    {
     "data": {
      "text/html": [
       "<div>\n",
       "<style scoped>\n",
       "    .dataframe tbody tr th:only-of-type {\n",
       "        vertical-align: middle;\n",
       "    }\n",
       "\n",
       "    .dataframe tbody tr th {\n",
       "        vertical-align: top;\n",
       "    }\n",
       "\n",
       "    .dataframe thead th {\n",
       "        text-align: right;\n",
       "    }\n",
       "</style>\n",
       "<table border=\"1\" class=\"dataframe\">\n",
       "  <thead>\n",
       "    <tr style=\"text-align: right;\">\n",
       "      <th></th>\n",
       "      <th>thread_num</th>\n",
       "      <th>user</th>\n",
       "      <th>text</th>\n",
       "      <th>quotes</th>\n",
       "    </tr>\n",
       "  </thead>\n",
       "  <tbody>\n",
       "    <tr>\n",
       "      <th>0</th>\n",
       "      <td>39457</td>\n",
       "      <td>Mephansteras</td>\n",
       "      <td>There was some talk about a beginners mafia ga...</td>\n",
       "      <td>[]</td>\n",
       "    </tr>\n",
       "    <tr>\n",
       "      <th>1</th>\n",
       "      <td>39457</td>\n",
       "      <td>Pandarsenic</td>\n",
       "      <td>*Cough*\\r\\r\\r\\r\\nI'd join.</td>\n",
       "      <td>[]</td>\n",
       "    </tr>\n",
       "    <tr>\n",
       "      <th>2</th>\n",
       "      <td>39457</td>\n",
       "      <td>Org</td>\n",
       "      <td>Im in.</td>\n",
       "      <td>[]</td>\n",
       "    </tr>\n",
       "    <tr>\n",
       "      <th>3</th>\n",
       "      <td>39457</td>\n",
       "      <td>Mephansteras</td>\n",
       "      <td>*sigh*\\r\\r\\r\\r\\n\\r\\r\\r\\r\\nOk, how about people...</td>\n",
       "      <td>[]</td>\n",
       "    </tr>\n",
       "    <tr>\n",
       "      <th>4</th>\n",
       "      <td>39457</td>\n",
       "      <td>Jim Groovester</td>\n",
       "      <td>I... may join. Just to see what the hell is so...</td>\n",
       "      <td>[]</td>\n",
       "    </tr>\n",
       "  </tbody>\n",
       "</table>\n",
       "</div>"
      ],
      "text/plain": [
       "   thread_num            user  \\\n",
       "0       39457    Mephansteras   \n",
       "1       39457     Pandarsenic   \n",
       "2       39457             Org   \n",
       "3       39457    Mephansteras   \n",
       "4       39457  Jim Groovester   \n",
       "\n",
       "                                                text quotes  \n",
       "0  There was some talk about a beginners mafia ga...     []  \n",
       "1                        *Cough*\\r\\r\\r\\r\\nI'd join.      []  \n",
       "2                                             Im in.     []  \n",
       "3  *sigh*\\r\\r\\r\\r\\n\\r\\r\\r\\r\\nOk, how about people...     []  \n",
       "4  I... may join. Just to see what the hell is so...     []  "
      ]
     },
     "execution_count": 22,
     "metadata": {},
     "output_type": "execute_result"
    }
   ],
   "source": [
    "post.head()"
   ]
  },
  {
   "cell_type": "code",
   "execution_count": 23,
   "metadata": {},
   "outputs": [
    {
     "data": {
      "text/html": [
       "<div>\n",
       "<style scoped>\n",
       "    .dataframe tbody tr th:only-of-type {\n",
       "        vertical-align: middle;\n",
       "    }\n",
       "\n",
       "    .dataframe tbody tr th {\n",
       "        vertical-align: top;\n",
       "    }\n",
       "\n",
       "    .dataframe thead th {\n",
       "        text-align: right;\n",
       "    }\n",
       "</style>\n",
       "<table border=\"1\" class=\"dataframe\">\n",
       "  <thead>\n",
       "    <tr style=\"text-align: right;\">\n",
       "      <th></th>\n",
       "      <th>thread_num</th>\n",
       "      <th>user</th>\n",
       "      <th>final_player</th>\n",
       "      <th>role</th>\n",
       "      <th>role_id</th>\n",
       "      <th>uid</th>\n",
       "    </tr>\n",
       "  </thead>\n",
       "  <tbody>\n",
       "    <tr>\n",
       "      <th>0</th>\n",
       "      <td>117173</td>\n",
       "      <td>Captain Ford</td>\n",
       "      <td>Captain Ford</td>\n",
       "      <td>mafia</td>\n",
       "      <td>1.0</td>\n",
       "      <td>117173_Captain_Ford</td>\n",
       "    </tr>\n",
       "    <tr>\n",
       "      <th>1</th>\n",
       "      <td>117173</td>\n",
       "      <td>Jim Groovester</td>\n",
       "      <td>Jim Groovester</td>\n",
       "      <td>town</td>\n",
       "      <td>0.0</td>\n",
       "      <td>117173_Jim_Groovester</td>\n",
       "    </tr>\n",
       "    <tr>\n",
       "      <th>2</th>\n",
       "      <td>117173</td>\n",
       "      <td>Mr.Zero</td>\n",
       "      <td>Reverie</td>\n",
       "      <td>mafia</td>\n",
       "      <td>1.0</td>\n",
       "      <td>117173_Mr.Zero</td>\n",
       "    </tr>\n",
       "    <tr>\n",
       "      <th>3</th>\n",
       "      <td>117173</td>\n",
       "      <td>MrCelt</td>\n",
       "      <td>MrCelt</td>\n",
       "      <td>town</td>\n",
       "      <td>0.0</td>\n",
       "      <td>117173_MrCelt</td>\n",
       "    </tr>\n",
       "    <tr>\n",
       "      <th>4</th>\n",
       "      <td>117173</td>\n",
       "      <td>Nabic</td>\n",
       "      <td>Nabic</td>\n",
       "      <td>town</td>\n",
       "      <td>0.0</td>\n",
       "      <td>117173_Nabic</td>\n",
       "    </tr>\n",
       "  </tbody>\n",
       "</table>\n",
       "</div>"
      ],
      "text/plain": [
       "   thread_num            user    final_player   role  role_id  \\\n",
       "0      117173    Captain Ford    Captain Ford  mafia      1.0   \n",
       "1      117173  Jim Groovester  Jim Groovester   town      0.0   \n",
       "2      117173         Mr.Zero         Reverie  mafia      1.0   \n",
       "3      117173          MrCelt          MrCelt   town      0.0   \n",
       "4      117173           Nabic           Nabic   town      0.0   \n",
       "\n",
       "                     uid  \n",
       "0    117173_Captain_Ford  \n",
       "1  117173_Jim_Groovester  \n",
       "2         117173_Mr.Zero  \n",
       "3          117173_MrCelt  \n",
       "4           117173_Nabic  "
      ]
     },
     "execution_count": 23,
     "metadata": {},
     "output_type": "execute_result"
    }
   ],
   "source": [
    "role.head()"
   ]
  },
  {
   "cell_type": "code",
   "execution_count": 24,
   "metadata": {},
   "outputs": [],
   "source": [
    "post_test=gcs.get_post(which='test')\n",
    "role_test=gcs.get_role(which='test')\n",
    "post[\"text\"]=post[\"text\"].apply(data_prepare.clean)\n",
    "post_test[\"text\"]=post_test[\"text\"].apply(data_prepare.clean)"
   ]
  },
  {
   "cell_type": "code",
   "execution_count": 25,
   "metadata": {},
   "outputs": [],
   "source": [
    "users_df=data_prepare.concat_users_text(post)\n",
    "users_test_df=data_prepare.concat_users_text(post_test)"
   ]
  },
  {
   "cell_type": "code",
   "execution_count": 26,
   "metadata": {},
   "outputs": [],
   "source": [
    "main_df = data_prepare.get_users_in_game(role, users_df)\n",
    "main_test_df = data_prepare.get_users_in_game(role_test, users_test_df)"
   ]
  },
  {
   "cell_type": "code",
   "execution_count": 27,
   "metadata": {},
   "outputs": [],
   "source": [
    "train_data=main_df[\"text\"]\n",
    "y=main_df[\"role_id\"]\n",
    "y_test=gcs.get_role_answers()[\"role_id\"]\n",
    "test_data=main_test_df[\"text\"]"
   ]
  },
  {
   "cell_type": "code",
   "execution_count": 31,
   "metadata": {},
   "outputs": [
    {
     "data": {
      "text/plain": [
       "(478, 7955)"
      ]
     },
     "execution_count": 31,
     "metadata": {},
     "output_type": "execute_result"
    }
   ],
   "source": [
    "vectorizer = CountVectorizer(min_df=3, stop_words='english')\n",
    "X_train = vectorizer.fit_transform(train_data).toarray()\n",
    "X_test=vectorizer.transform(test_data).toarray()\n",
    "X_train.shape"
   ]
  },
  {
   "cell_type": "code",
   "execution_count": 32,
   "metadata": {},
   "outputs": [],
   "source": [
    "from sklearn.preprocessing import StandardScaler\n",
    "sc=StandardScaler()\n",
    "X_train=sc.fit_transform(X_train)\n",
    "X_test=sc.transform(X_test)"
   ]
  },
  {
   "cell_type": "code",
   "execution_count": 33,
   "metadata": {},
   "outputs": [
    {
     "data": {
      "image/png": "[encoded data removed]",
      "text/plain": [
       "<Figure size 432x288 with 1 Axes>"
      ]
     },
     "metadata": {
      "needs_background": "light"
     },
     "output_type": "display_data"
    }
   ],
   "source": [
    "pca = PCA().fit(X_train)\n",
    "plt.figure()\n",
    "plt.plot(np.cumsum(pca.explained_variance_ratio_))\n",
    "plt.xlabel('PC number')\n",
    "plt.ylabel('Coverage of variance ')\n",
    "plt.show()"
   ]
  },
  {
   "cell_type": "code",
   "execution_count": 34,
   "metadata": {},
   "outputs": [],
   "source": [
    "pca = PCA(n_components=250)\n",
    "pC = pca.fit_transform(X_train)\n",
    "pCTest=pca.transform(X_test)"
   ]
  },
  {
   "cell_type": "code",
   "execution_count": 41,
   "metadata": {},
   "outputs": [],
   "source": [
    "from sklearn.model_selection import train_test_split\n",
    "X_train, X_val, y_train, y_val = train_test_split(pC, y, test_size=0.2, random_state=24)"
   ]
  },
  {
   "cell_type": "markdown",
   "metadata": {},
   "source": [
    "## xgboost"
   ]
  },
  {
   "cell_type": "code",
   "execution_count": 38,
   "metadata": {},
   "outputs": [],
   "source": [
    "import xgboost as xgb\n",
    "from sklearn.model_selection import StratifiedKFold"
   ]
  },
  {
   "cell_type": "code",
   "execution_count": 39,
   "metadata": {},
   "outputs": [],
   "source": [
    "cv = StratifiedKFold(n_splits=3, shuffle=True, random_state=1)"
   ]
  },
  {
   "cell_type": "code",
   "execution_count": 42,
   "metadata": {},
   "outputs": [
    {
     "name": "stdout",
     "output_type": "stream",
     "text": [
      "Fitting 3 folds for each of 27 candidates, totalling 81 fits\n"
     ]
    },
    {
     "name": "stderr",
     "output_type": "stream",
     "text": [
      "[Parallel(n_jobs=1)]: Using backend SequentialBackend with 1 concurrent workers.\n",
      "[Parallel(n_jobs=1)]: Done  81 out of  81 | elapsed:  5.2min finished\n"
     ]
    },
    {
     "name": "stdout",
     "output_type": "stream",
     "text": [
      "Accuracy (xgboost auto): 0.7827225130890052 with params {'learning_rate': 0.02, 'max_depth': 1, 'n_estimators': 270}\n"
     ]
    }
   ],
   "source": [
    "ald_xgb_model = xgb.XGBClassifier()\n",
    "ald_xgb_params = [\n",
    "    {\"n_estimators\": [230, 250, 270],\n",
    "     \"max_depth\": [1, 2, 4],\n",
    "     \"learning_rate\": [0.01, 0.02, 0.05]}\n",
    "]\n",
    "alg_xgb_grid = GridSearchCV(ald_xgb_model, ald_xgb_params, cv=cv, refit=True, verbose=1, n_jobs=1)\n",
    "alg_xgb_grid.fit(X_train, y_train)\n",
    "alg_xgb_best = alg_xgb_grid.best_estimator_\n",
    "print(\"Accuracy (xgboost auto): {} with params {}\"\n",
    "      .format(alg_xgb_grid.best_score_, alg_xgb_grid.best_params_))"
   ]
  },
  {
   "cell_type": "code",
   "execution_count": 51,
   "metadata": {},
   "outputs": [],
   "source": [
    "preds_class = alg_xgb_best.predict(pCTest)\n",
    "preds_proba = alg_xgb_best.predict_proba(pCTest)"
   ]
  },
  {
   "cell_type": "code",
   "execution_count": 52,
   "metadata": {},
   "outputs": [
    {
     "data": {
      "text/plain": [
       "0.5221241145365659"
      ]
     },
     "execution_count": 52,
     "metadata": {},
     "output_type": "execute_result"
    }
   ],
   "source": [
    "roc_auc_score(y_test, preds_proba[:,1])"
   ]
  },
  {
   "cell_type": "code",
   "execution_count": 53,
   "metadata": {},
   "outputs": [
    {
     "data": {
      "text/plain": [
       "0.7671641791044777"
      ]
     },
     "execution_count": 53,
     "metadata": {},
     "output_type": "execute_result"
    }
   ],
   "source": [
    "accuracy_score(y_test, preds_class)"
   ]
  },
  {
   "cell_type": "code",
   "execution_count": 54,
   "metadata": {},
   "outputs": [
    {
     "data": {
      "text/plain": [
       "257"
      ]
     },
     "execution_count": 54,
     "metadata": {},
     "output_type": "execute_result"
    }
   ],
   "source": [
    "accuracy_score(y_test, preds_class, normalize=False)"
   ]
  },
  {
   "cell_type": "code",
   "execution_count": 56,
   "metadata": {},
   "outputs": [
    {
     "data": {
      "image/png": "[encoded data removed]",
      "text/plain": [
       "<Figure size 720x720 with 2 Axes>"
      ]
     },
     "metadata": {
      "needs_background": "light"
     },
     "output_type": "display_data"
    }
   ],
   "source": [
    "import seaborn as sns\n",
    "conf_mat = confusion_matrix(y_test, preds_class) \n",
    "fig, ax = plt.subplots(figsize=(10,10))\n",
    "sns.heatmap(conf_mat, annot=True, fmt='d')\n",
    "plt.ylabel('Actual')\n",
    "plt.xlabel('Predicted')\n",
    "plt.show()"
   ]
  },
  {
   "cell_type": "markdown",
   "metadata": {},
   "source": [
    "## randomForest"
   ]
  },
  {
   "cell_type": "code",
   "execution_count": 59,
   "metadata": {},
   "outputs": [
    {
     "name": "stdout",
     "output_type": "stream",
     "text": [
      "Fitting 3 folds for each of 27 candidates, totalling 81 fits\n"
     ]
    },
    {
     "name": "stderr",
     "output_type": "stream",
     "text": [
      "[Parallel(n_jobs=-1)]: Using backend LokyBackend with 2 concurrent workers.\n",
      "[Parallel(n_jobs=-1)]: Done  46 tasks      | elapsed:  3.7min\n",
      "[Parallel(n_jobs=-1)]: Done  81 out of  81 | elapsed:  4.6min finished\n"
     ]
    },
    {
     "name": "stdout",
     "output_type": "stream",
     "text": [
      "Accuracy (random forest auto): 0.7801047120418848 with params {'min_samples_leaf': 1, 'min_samples_split': 6, 'n_estimators': 350}\n"
     ]
    }
   ],
   "source": [
    "alg_frst_model = RandomForestClassifier(random_state=1)\n",
    "alg_frst_params = [{\n",
    "    \"n_estimators\": [350, 400, 450],\n",
    "    \"min_samples_split\": [6, 8, 10],\n",
    "    \"min_samples_leaf\": [1, 2, 4]\n",
    "}]\n",
    "alg_frst_grid = GridSearchCV(alg_frst_model, alg_frst_params, cv=cv, refit=True, verbose=1, n_jobs=-1)\n",
    "alg_frst_grid.fit(X_train, y_train)\n",
    "alg_frst_best = alg_frst_grid.best_estimator_\n",
    "print(\"Accuracy (random forest auto): {} with params {}\"\n",
    "      .format(alg_frst_grid.best_score_, alg_frst_grid.best_params_))"
   ]
  },
  {
   "cell_type": "code",
   "execution_count": 60,
   "metadata": {},
   "outputs": [],
   "source": [
    "preds_class = alg_frst_best.predict(pCTest)\n",
    "preds_proba = alg_frst_best.predict_proba(pCTest)"
   ]
  },
  {
   "cell_type": "code",
   "execution_count": 61,
   "metadata": {},
   "outputs": [
    {
     "data": {
      "text/plain": [
       "0.4883767335129203"
      ]
     },
     "execution_count": 61,
     "metadata": {},
     "output_type": "execute_result"
    }
   ],
   "source": [
    "roc_auc_score(y_test, preds_proba[:,1])"
   ]
  },
  {
   "cell_type": "code",
   "execution_count": 62,
   "metadata": {},
   "outputs": [
    {
     "data": {
      "text/plain": [
       "0.764179104477612"
      ]
     },
     "execution_count": 62,
     "metadata": {},
     "output_type": "execute_result"
    }
   ],
   "source": [
    "accuracy_score(y_test, preds_class)"
   ]
  },
  {
   "cell_type": "code",
   "execution_count": 63,
   "metadata": {},
   "outputs": [
    {
     "data": {
      "text/plain": [
       "256"
      ]
     },
     "execution_count": 63,
     "metadata": {},
     "output_type": "execute_result"
    }
   ],
   "source": [
    "accuracy_score(y_test, preds_class, normalize=False)"
   ]
  },
  {
   "cell_type": "code",
   "execution_count": 64,
   "metadata": {},
   "outputs": [
    {
     "data": {
      "image/png": "[encoded data removed]",
      "text/plain": [
       "<Figure size 720x720 with 2 Axes>"
      ]
     },
     "metadata": {
      "needs_background": "light"
     },
     "output_type": "display_data"
    }
   ],
   "source": [
    "conf_mat = confusion_matrix(y_test, preds_class) \n",
    "fig, ax = plt.subplots(figsize=(10,10))\n",
    "sns.heatmap(conf_mat, annot=True, fmt='d')\n",
    "plt.ylabel('Actual')\n",
    "plt.xlabel('Predicted')\n",
    "plt.show()"
   ]
  },
  {
   "cell_type": "code",
   "execution_count": null,
   "metadata": {},
   "outputs": [],
   "source": []
  }
 ],
 "metadata": {
  "kernelspec": {
   "display_name": "Python 3",
   "language": "python",
   "name": "python3"
  }
 },
 "nbformat": 4,
 "nbformat_minor": 2
}
